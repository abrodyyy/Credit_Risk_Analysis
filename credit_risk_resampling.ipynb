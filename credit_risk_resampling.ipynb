{
  "cells": [
    {
      "cell_type": "markdown",
      "metadata": {
        "id": "view-in-github",
        "colab_type": "text"
      },
      "source": [
        "<a href=\"https://colab.research.google.com/github/abrodyyy/Credit_Risk_Analysis/blob/main/credit_risk_resampling.ipynb\" target=\"_parent\"><img src=\"https://colab.research.google.com/assets/colab-badge.svg\" alt=\"Open In Colab\"/></a>"
      ]
    },
    {
      "cell_type": "markdown",
      "metadata": {
        "id": "YMffuGNFZefM"
      },
      "source": [
        "# Credit Risk Resampling Techniques"
      ]
    },
    {
      "cell_type": "code",
      "execution_count": 1,
      "metadata": {
        "id": "KPZxg6drZefN"
      },
      "outputs": [],
      "source": [
        "import warnings\n",
        "warnings.filterwarnings('ignore')"
      ]
    },
    {
      "cell_type": "code",
      "execution_count": 2,
      "metadata": {
        "id": "6IsD-2tbZefO"
      },
      "outputs": [],
      "source": [
        "import numpy as np\n",
        "import pandas as pd\n",
        "from pathlib import Path\n",
        "from collections import Counter"
      ]
    },
    {
      "cell_type": "markdown",
      "metadata": {
        "id": "sgxEhWWEZefP"
      },
      "source": [
        "# Read the CSV and Perform Basic Data Cleaning"
      ]
    },
    {
      "cell_type": "code",
      "execution_count": 3,
      "metadata": {
        "id": "VnioHQxLZefP"
      },
      "outputs": [],
      "source": [
        "columns = [\n",
        "    \"loan_amnt\", \"int_rate\", \"installment\", \"home_ownership\",\n",
        "    \"annual_inc\", \"verification_status\", \"issue_d\", \"loan_status\",\n",
        "    \"pymnt_plan\", \"dti\", \"delinq_2yrs\", \"inq_last_6mths\",\n",
        "    \"open_acc\", \"pub_rec\", \"revol_bal\", \"total_acc\",\n",
        "    \"initial_list_status\", \"out_prncp\", \"out_prncp_inv\", \"total_pymnt\",\n",
        "    \"total_pymnt_inv\", \"total_rec_prncp\", \"total_rec_int\", \"total_rec_late_fee\",\n",
        "    \"recoveries\", \"collection_recovery_fee\", \"last_pymnt_amnt\", \"next_pymnt_d\",\n",
        "    \"collections_12_mths_ex_med\", \"policy_code\", \"application_type\", \"acc_now_delinq\",\n",
        "    \"tot_coll_amt\", \"tot_cur_bal\", \"open_acc_6m\", \"open_act_il\",\n",
        "    \"open_il_12m\", \"open_il_24m\", \"mths_since_rcnt_il\", \"total_bal_il\",\n",
        "    \"il_util\", \"open_rv_12m\", \"open_rv_24m\", \"max_bal_bc\",\n",
        "    \"all_util\", \"total_rev_hi_lim\", \"inq_fi\", \"total_cu_tl\",\n",
        "    \"inq_last_12m\", \"acc_open_past_24mths\", \"avg_cur_bal\", \"bc_open_to_buy\",\n",
        "    \"bc_util\", \"chargeoff_within_12_mths\", \"delinq_amnt\", \"mo_sin_old_il_acct\",\n",
        "    \"mo_sin_old_rev_tl_op\", \"mo_sin_rcnt_rev_tl_op\", \"mo_sin_rcnt_tl\", \"mort_acc\",\n",
        "    \"mths_since_recent_bc\", \"mths_since_recent_inq\", \"num_accts_ever_120_pd\", \"num_actv_bc_tl\",\n",
        "    \"num_actv_rev_tl\", \"num_bc_sats\", \"num_bc_tl\", \"num_il_tl\",\n",
        "    \"num_op_rev_tl\", \"num_rev_accts\", \"num_rev_tl_bal_gt_0\",\n",
        "    \"num_sats\", \"num_tl_120dpd_2m\", \"num_tl_30dpd\", \"num_tl_90g_dpd_24m\",\n",
        "    \"num_tl_op_past_12m\", \"pct_tl_nvr_dlq\", \"percent_bc_gt_75\", \"pub_rec_bankruptcies\",\n",
        "    \"tax_liens\", \"tot_hi_cred_lim\", \"total_bal_ex_mort\", \"total_bc_limit\",\n",
        "    \"total_il_high_credit_limit\", \"hardship_flag\", \"debt_settlement_flag\"\n",
        "]\n",
        "\n",
        "target = [\"loan_status\"]"
      ]
    },
    {
      "cell_type": "code",
      "execution_count": 5,
      "metadata": {
        "colab": {
          "base_uri": "https://localhost:8080/",
          "height": 382
        },
        "id": "BOKeOc2NZefQ",
        "outputId": "de516e40-cde5-4fb4-ea81-07836eac122f"
      },
      "outputs": [
        {
          "output_type": "execute_result",
          "data": {
            "text/plain": [
              "   loan_amnt  int_rate  installment home_ownership  annual_inc  \\\n",
              "0    10500.0    0.1719       375.35           RENT     66000.0   \n",
              "1    25000.0    0.2000       929.09       MORTGAGE    105000.0   \n",
              "2    20000.0    0.2000       529.88       MORTGAGE     56000.0   \n",
              "3    10000.0    0.1640       353.55           RENT     92000.0   \n",
              "4    22000.0    0.1474       520.39       MORTGAGE     52000.0   \n",
              "\n",
              "  verification_status   issue_d loan_status pymnt_plan    dti  ...  \\\n",
              "0     Source Verified  Mar-2019    low_risk          n  27.24  ...   \n",
              "1            Verified  Mar-2019    low_risk          n  20.23  ...   \n",
              "2            Verified  Mar-2019    low_risk          n  24.26  ...   \n",
              "3            Verified  Mar-2019    low_risk          n  31.44  ...   \n",
              "4        Not Verified  Mar-2019    low_risk          n  18.76  ...   \n",
              "\n",
              "   pct_tl_nvr_dlq  percent_bc_gt_75  pub_rec_bankruptcies  tax_liens  \\\n",
              "0            85.7             100.0                   0.0        0.0   \n",
              "1            91.2              50.0                   1.0        0.0   \n",
              "2            66.7              50.0                   0.0        0.0   \n",
              "3           100.0              50.0                   1.0        0.0   \n",
              "4           100.0               0.0                   0.0        0.0   \n",
              "\n",
              "   tot_hi_cred_lim  total_bal_ex_mort total_bc_limit  \\\n",
              "0          65687.0            38199.0         2000.0   \n",
              "1         271427.0            60641.0        41200.0   \n",
              "2          60644.0            45684.0         7500.0   \n",
              "3          99506.0            68784.0        19700.0   \n",
              "4         219750.0            25919.0        27600.0   \n",
              "\n",
              "   total_il_high_credit_limit  hardship_flag  debt_settlement_flag  \n",
              "0                     61987.0              N                     N  \n",
              "1                     49197.0              N                     N  \n",
              "2                     43144.0              N                     N  \n",
              "3                     76506.0              N                     N  \n",
              "4                     20000.0              N                     N  \n",
              "\n",
              "[5 rows x 86 columns]"
            ],
            "text/html": [
              "\n",
              "  <div id=\"df-d7740365-dd0c-45ce-bb30-2554efe32a14\">\n",
              "    <div class=\"colab-df-container\">\n",
              "      <div>\n",
              "<style scoped>\n",
              "    .dataframe tbody tr th:only-of-type {\n",
              "        vertical-align: middle;\n",
              "    }\n",
              "\n",
              "    .dataframe tbody tr th {\n",
              "        vertical-align: top;\n",
              "    }\n",
              "\n",
              "    .dataframe thead th {\n",
              "        text-align: right;\n",
              "    }\n",
              "</style>\n",
              "<table border=\"1\" class=\"dataframe\">\n",
              "  <thead>\n",
              "    <tr style=\"text-align: right;\">\n",
              "      <th></th>\n",
              "      <th>loan_amnt</th>\n",
              "      <th>int_rate</th>\n",
              "      <th>installment</th>\n",
              "      <th>home_ownership</th>\n",
              "      <th>annual_inc</th>\n",
              "      <th>verification_status</th>\n",
              "      <th>issue_d</th>\n",
              "      <th>loan_status</th>\n",
              "      <th>pymnt_plan</th>\n",
              "      <th>dti</th>\n",
              "      <th>...</th>\n",
              "      <th>pct_tl_nvr_dlq</th>\n",
              "      <th>percent_bc_gt_75</th>\n",
              "      <th>pub_rec_bankruptcies</th>\n",
              "      <th>tax_liens</th>\n",
              "      <th>tot_hi_cred_lim</th>\n",
              "      <th>total_bal_ex_mort</th>\n",
              "      <th>total_bc_limit</th>\n",
              "      <th>total_il_high_credit_limit</th>\n",
              "      <th>hardship_flag</th>\n",
              "      <th>debt_settlement_flag</th>\n",
              "    </tr>\n",
              "  </thead>\n",
              "  <tbody>\n",
              "    <tr>\n",
              "      <th>0</th>\n",
              "      <td>10500.0</td>\n",
              "      <td>0.1719</td>\n",
              "      <td>375.35</td>\n",
              "      <td>RENT</td>\n",
              "      <td>66000.0</td>\n",
              "      <td>Source Verified</td>\n",
              "      <td>Mar-2019</td>\n",
              "      <td>low_risk</td>\n",
              "      <td>n</td>\n",
              "      <td>27.24</td>\n",
              "      <td>...</td>\n",
              "      <td>85.7</td>\n",
              "      <td>100.0</td>\n",
              "      <td>0.0</td>\n",
              "      <td>0.0</td>\n",
              "      <td>65687.0</td>\n",
              "      <td>38199.0</td>\n",
              "      <td>2000.0</td>\n",
              "      <td>61987.0</td>\n",
              "      <td>N</td>\n",
              "      <td>N</td>\n",
              "    </tr>\n",
              "    <tr>\n",
              "      <th>1</th>\n",
              "      <td>25000.0</td>\n",
              "      <td>0.2000</td>\n",
              "      <td>929.09</td>\n",
              "      <td>MORTGAGE</td>\n",
              "      <td>105000.0</td>\n",
              "      <td>Verified</td>\n",
              "      <td>Mar-2019</td>\n",
              "      <td>low_risk</td>\n",
              "      <td>n</td>\n",
              "      <td>20.23</td>\n",
              "      <td>...</td>\n",
              "      <td>91.2</td>\n",
              "      <td>50.0</td>\n",
              "      <td>1.0</td>\n",
              "      <td>0.0</td>\n",
              "      <td>271427.0</td>\n",
              "      <td>60641.0</td>\n",
              "      <td>41200.0</td>\n",
              "      <td>49197.0</td>\n",
              "      <td>N</td>\n",
              "      <td>N</td>\n",
              "    </tr>\n",
              "    <tr>\n",
              "      <th>2</th>\n",
              "      <td>20000.0</td>\n",
              "      <td>0.2000</td>\n",
              "      <td>529.88</td>\n",
              "      <td>MORTGAGE</td>\n",
              "      <td>56000.0</td>\n",
              "      <td>Verified</td>\n",
              "      <td>Mar-2019</td>\n",
              "      <td>low_risk</td>\n",
              "      <td>n</td>\n",
              "      <td>24.26</td>\n",
              "      <td>...</td>\n",
              "      <td>66.7</td>\n",
              "      <td>50.0</td>\n",
              "      <td>0.0</td>\n",
              "      <td>0.0</td>\n",
              "      <td>60644.0</td>\n",
              "      <td>45684.0</td>\n",
              "      <td>7500.0</td>\n",
              "      <td>43144.0</td>\n",
              "      <td>N</td>\n",
              "      <td>N</td>\n",
              "    </tr>\n",
              "    <tr>\n",
              "      <th>3</th>\n",
              "      <td>10000.0</td>\n",
              "      <td>0.1640</td>\n",
              "      <td>353.55</td>\n",
              "      <td>RENT</td>\n",
              "      <td>92000.0</td>\n",
              "      <td>Verified</td>\n",
              "      <td>Mar-2019</td>\n",
              "      <td>low_risk</td>\n",
              "      <td>n</td>\n",
              "      <td>31.44</td>\n",
              "      <td>...</td>\n",
              "      <td>100.0</td>\n",
              "      <td>50.0</td>\n",
              "      <td>1.0</td>\n",
              "      <td>0.0</td>\n",
              "      <td>99506.0</td>\n",
              "      <td>68784.0</td>\n",
              "      <td>19700.0</td>\n",
              "      <td>76506.0</td>\n",
              "      <td>N</td>\n",
              "      <td>N</td>\n",
              "    </tr>\n",
              "    <tr>\n",
              "      <th>4</th>\n",
              "      <td>22000.0</td>\n",
              "      <td>0.1474</td>\n",
              "      <td>520.39</td>\n",
              "      <td>MORTGAGE</td>\n",
              "      <td>52000.0</td>\n",
              "      <td>Not Verified</td>\n",
              "      <td>Mar-2019</td>\n",
              "      <td>low_risk</td>\n",
              "      <td>n</td>\n",
              "      <td>18.76</td>\n",
              "      <td>...</td>\n",
              "      <td>100.0</td>\n",
              "      <td>0.0</td>\n",
              "      <td>0.0</td>\n",
              "      <td>0.0</td>\n",
              "      <td>219750.0</td>\n",
              "      <td>25919.0</td>\n",
              "      <td>27600.0</td>\n",
              "      <td>20000.0</td>\n",
              "      <td>N</td>\n",
              "      <td>N</td>\n",
              "    </tr>\n",
              "  </tbody>\n",
              "</table>\n",
              "<p>5 rows × 86 columns</p>\n",
              "</div>\n",
              "      <button class=\"colab-df-convert\" onclick=\"convertToInteractive('df-d7740365-dd0c-45ce-bb30-2554efe32a14')\"\n",
              "              title=\"Convert this dataframe to an interactive table.\"\n",
              "              style=\"display:none;\">\n",
              "        \n",
              "  <svg xmlns=\"http://www.w3.org/2000/svg\" height=\"24px\"viewBox=\"0 0 24 24\"\n",
              "       width=\"24px\">\n",
              "    <path d=\"M0 0h24v24H0V0z\" fill=\"none\"/>\n",
              "    <path d=\"M18.56 5.44l.94 2.06.94-2.06 2.06-.94-2.06-.94-.94-2.06-.94 2.06-2.06.94zm-11 1L8.5 8.5l.94-2.06 2.06-.94-2.06-.94L8.5 2.5l-.94 2.06-2.06.94zm10 10l.94 2.06.94-2.06 2.06-.94-2.06-.94-.94-2.06-.94 2.06-2.06.94z\"/><path d=\"M17.41 7.96l-1.37-1.37c-.4-.4-.92-.59-1.43-.59-.52 0-1.04.2-1.43.59L10.3 9.45l-7.72 7.72c-.78.78-.78 2.05 0 2.83L4 21.41c.39.39.9.59 1.41.59.51 0 1.02-.2 1.41-.59l7.78-7.78 2.81-2.81c.8-.78.8-2.07 0-2.86zM5.41 20L4 18.59l7.72-7.72 1.47 1.35L5.41 20z\"/>\n",
              "  </svg>\n",
              "      </button>\n",
              "      \n",
              "  <style>\n",
              "    .colab-df-container {\n",
              "      display:flex;\n",
              "      flex-wrap:wrap;\n",
              "      gap: 12px;\n",
              "    }\n",
              "\n",
              "    .colab-df-convert {\n",
              "      background-color: #E8F0FE;\n",
              "      border: none;\n",
              "      border-radius: 50%;\n",
              "      cursor: pointer;\n",
              "      display: none;\n",
              "      fill: #1967D2;\n",
              "      height: 32px;\n",
              "      padding: 0 0 0 0;\n",
              "      width: 32px;\n",
              "    }\n",
              "\n",
              "    .colab-df-convert:hover {\n",
              "      background-color: #E2EBFA;\n",
              "      box-shadow: 0px 1px 2px rgba(60, 64, 67, 0.3), 0px 1px 3px 1px rgba(60, 64, 67, 0.15);\n",
              "      fill: #174EA6;\n",
              "    }\n",
              "\n",
              "    [theme=dark] .colab-df-convert {\n",
              "      background-color: #3B4455;\n",
              "      fill: #D2E3FC;\n",
              "    }\n",
              "\n",
              "    [theme=dark] .colab-df-convert:hover {\n",
              "      background-color: #434B5C;\n",
              "      box-shadow: 0px 1px 3px 1px rgba(0, 0, 0, 0.15);\n",
              "      filter: drop-shadow(0px 1px 2px rgba(0, 0, 0, 0.3));\n",
              "      fill: #FFFFFF;\n",
              "    }\n",
              "  </style>\n",
              "\n",
              "      <script>\n",
              "        const buttonEl =\n",
              "          document.querySelector('#df-d7740365-dd0c-45ce-bb30-2554efe32a14 button.colab-df-convert');\n",
              "        buttonEl.style.display =\n",
              "          google.colab.kernel.accessAllowed ? 'block' : 'none';\n",
              "\n",
              "        async function convertToInteractive(key) {\n",
              "          const element = document.querySelector('#df-d7740365-dd0c-45ce-bb30-2554efe32a14');\n",
              "          const dataTable =\n",
              "            await google.colab.kernel.invokeFunction('convertToInteractive',\n",
              "                                                     [key], {});\n",
              "          if (!dataTable) return;\n",
              "\n",
              "          const docLinkHtml = 'Like what you see? Visit the ' +\n",
              "            '<a target=\"_blank\" href=https://colab.research.google.com/notebooks/data_table.ipynb>data table notebook</a>'\n",
              "            + ' to learn more about interactive tables.';\n",
              "          element.innerHTML = '';\n",
              "          dataTable['output_type'] = 'display_data';\n",
              "          await google.colab.output.renderOutput(dataTable, element);\n",
              "          const docLink = document.createElement('div');\n",
              "          docLink.innerHTML = docLinkHtml;\n",
              "          element.appendChild(docLink);\n",
              "        }\n",
              "      </script>\n",
              "    </div>\n",
              "  </div>\n",
              "  "
            ]
          },
          "metadata": {},
          "execution_count": 5
        }
      ],
      "source": [
        "# Load the data\n",
        "file_path = Path('/content/LoanStats_2019Q1.csv')\n",
        "df = pd.read_csv(file_path, skiprows=1)[:-2]\n",
        "df = df.loc[:, columns].copy()\n",
        "\n",
        "# Drop the null columns where all values are null\n",
        "df = df.dropna(axis='columns', how='all')\n",
        "\n",
        "# Drop the null rows\n",
        "df = df.dropna()\n",
        "\n",
        "# Remove the `Issued` loan status\n",
        "issued_mask = df['loan_status'] != 'Issued'\n",
        "df = df.loc[issued_mask]\n",
        "\n",
        "# convert interest rate to numerical\n",
        "df['int_rate'] = df['int_rate'].str.replace('%', '')\n",
        "df['int_rate'] = df['int_rate'].astype('float') / 100\n",
        "\n",
        "\n",
        "# Convert the target column values to low_risk and high_risk based on their values\n",
        "x = {'Current': 'low_risk'}   \n",
        "df = df.replace(x)\n",
        "\n",
        "x = dict.fromkeys(['Late (31-120 days)', 'Late (16-30 days)', 'Default', 'In Grace Period'], 'high_risk')    \n",
        "df = df.replace(x)\n",
        "\n",
        "df.reset_index(inplace=True, drop=True)\n",
        "\n",
        "df.head()"
      ]
    },
    {
      "cell_type": "markdown",
      "metadata": {
        "id": "Pbb2bwQ7ZefQ"
      },
      "source": [
        "# Split the Data into Training and Testing"
      ]
    },
    {
      "cell_type": "code",
      "execution_count": 6,
      "metadata": {
        "id": "S8tOK9mRZefR"
      },
      "outputs": [],
      "source": [
        "# Create our features\n",
        "X = df.drop('loan_status', axis = 1)\n",
        "X = pd.get_dummies(X)\n",
        "\n",
        "\n",
        "# Create our target\n",
        "y = df['loan_status']"
      ]
    },
    {
      "cell_type": "code",
      "execution_count": 7,
      "metadata": {
        "colab": {
          "base_uri": "https://localhost:8080/",
          "height": 407
        },
        "id": "gQJp2J9LZefR",
        "outputId": "53ba9ecb-48ea-4795-f2bf-20405152ae91"
      },
      "outputs": [
        {
          "output_type": "execute_result",
          "data": {
            "text/plain": [
              "          loan_amnt      int_rate   installment    annual_inc           dti  \\\n",
              "count  68817.000000  68817.000000  68817.000000  6.881700e+04  68817.000000   \n",
              "mean   16677.594562      0.127718    480.652863  8.821371e+04     21.778153   \n",
              "std    10277.348590      0.048130    288.062432  1.155800e+05     20.199244   \n",
              "min     1000.000000      0.060000     30.890000  4.000000e+01      0.000000   \n",
              "25%     9000.000000      0.088100    265.730000  5.000000e+04     13.890000   \n",
              "50%    15000.000000      0.118000    404.560000  7.300000e+04     19.760000   \n",
              "75%    24000.000000      0.155700    648.100000  1.040000e+05     26.660000   \n",
              "max    40000.000000      0.308400   1676.230000  8.797500e+06    999.000000   \n",
              "\n",
              "        delinq_2yrs  inq_last_6mths      open_acc       pub_rec  \\\n",
              "count  68817.000000    68817.000000  68817.000000  68817.000000   \n",
              "mean       0.217766        0.497697     12.587340      0.126030   \n",
              "std        0.718367        0.758122      6.022869      0.336797   \n",
              "min        0.000000        0.000000      2.000000      0.000000   \n",
              "25%        0.000000        0.000000      8.000000      0.000000   \n",
              "50%        0.000000        0.000000     11.000000      0.000000   \n",
              "75%        0.000000        1.000000     16.000000      0.000000   \n",
              "max       18.000000        5.000000     72.000000      4.000000   \n",
              "\n",
              "           revol_bal  ...  issue_d_Mar-2019  pymnt_plan_n  \\\n",
              "count   68817.000000  ...      68817.000000       68817.0   \n",
              "mean    17604.142828  ...          0.177238           1.0   \n",
              "std     21835.880400  ...          0.381873           0.0   \n",
              "min         0.000000  ...          0.000000           1.0   \n",
              "25%      6293.000000  ...          0.000000           1.0   \n",
              "50%     12068.000000  ...          0.000000           1.0   \n",
              "75%     21735.000000  ...          0.000000           1.0   \n",
              "max    587191.000000  ...          1.000000           1.0   \n",
              "\n",
              "       initial_list_status_f  initial_list_status_w  next_pymnt_d_Apr-2019  \\\n",
              "count           68817.000000           68817.000000           68817.000000   \n",
              "mean                0.123879               0.876121               0.383161   \n",
              "std                 0.329446               0.329446               0.486161   \n",
              "min                 0.000000               0.000000               0.000000   \n",
              "25%                 0.000000               1.000000               0.000000   \n",
              "50%                 0.000000               1.000000               0.000000   \n",
              "75%                 0.000000               1.000000               1.000000   \n",
              "max                 1.000000               1.000000               1.000000   \n",
              "\n",
              "       next_pymnt_d_May-2019  application_type_Individual  \\\n",
              "count           68817.000000                 68817.000000   \n",
              "mean                0.616839                     0.860340   \n",
              "std                 0.486161                     0.346637   \n",
              "min                 0.000000                     0.000000   \n",
              "25%                 0.000000                     1.000000   \n",
              "50%                 1.000000                     1.000000   \n",
              "75%                 1.000000                     1.000000   \n",
              "max                 1.000000                     1.000000   \n",
              "\n",
              "       application_type_Joint App  hardship_flag_N  debt_settlement_flag_N  \n",
              "count                68817.000000          68817.0                 68817.0  \n",
              "mean                     0.139660              1.0                     1.0  \n",
              "std                      0.346637              0.0                     0.0  \n",
              "min                      0.000000              1.0                     1.0  \n",
              "25%                      0.000000              1.0                     1.0  \n",
              "50%                      0.000000              1.0                     1.0  \n",
              "75%                      0.000000              1.0                     1.0  \n",
              "max                      1.000000              1.0                     1.0  \n",
              "\n",
              "[8 rows x 95 columns]"
            ],
            "text/html": [
              "\n",
              "  <div id=\"df-6ab98ba6-7ac7-45b7-8ac2-95d676c4ddd4\">\n",
              "    <div class=\"colab-df-container\">\n",
              "      <div>\n",
              "<style scoped>\n",
              "    .dataframe tbody tr th:only-of-type {\n",
              "        vertical-align: middle;\n",
              "    }\n",
              "\n",
              "    .dataframe tbody tr th {\n",
              "        vertical-align: top;\n",
              "    }\n",
              "\n",
              "    .dataframe thead th {\n",
              "        text-align: right;\n",
              "    }\n",
              "</style>\n",
              "<table border=\"1\" class=\"dataframe\">\n",
              "  <thead>\n",
              "    <tr style=\"text-align: right;\">\n",
              "      <th></th>\n",
              "      <th>loan_amnt</th>\n",
              "      <th>int_rate</th>\n",
              "      <th>installment</th>\n",
              "      <th>annual_inc</th>\n",
              "      <th>dti</th>\n",
              "      <th>delinq_2yrs</th>\n",
              "      <th>inq_last_6mths</th>\n",
              "      <th>open_acc</th>\n",
              "      <th>pub_rec</th>\n",
              "      <th>revol_bal</th>\n",
              "      <th>...</th>\n",
              "      <th>issue_d_Mar-2019</th>\n",
              "      <th>pymnt_plan_n</th>\n",
              "      <th>initial_list_status_f</th>\n",
              "      <th>initial_list_status_w</th>\n",
              "      <th>next_pymnt_d_Apr-2019</th>\n",
              "      <th>next_pymnt_d_May-2019</th>\n",
              "      <th>application_type_Individual</th>\n",
              "      <th>application_type_Joint App</th>\n",
              "      <th>hardship_flag_N</th>\n",
              "      <th>debt_settlement_flag_N</th>\n",
              "    </tr>\n",
              "  </thead>\n",
              "  <tbody>\n",
              "    <tr>\n",
              "      <th>count</th>\n",
              "      <td>68817.000000</td>\n",
              "      <td>68817.000000</td>\n",
              "      <td>68817.000000</td>\n",
              "      <td>6.881700e+04</td>\n",
              "      <td>68817.000000</td>\n",
              "      <td>68817.000000</td>\n",
              "      <td>68817.000000</td>\n",
              "      <td>68817.000000</td>\n",
              "      <td>68817.000000</td>\n",
              "      <td>68817.000000</td>\n",
              "      <td>...</td>\n",
              "      <td>68817.000000</td>\n",
              "      <td>68817.0</td>\n",
              "      <td>68817.000000</td>\n",
              "      <td>68817.000000</td>\n",
              "      <td>68817.000000</td>\n",
              "      <td>68817.000000</td>\n",
              "      <td>68817.000000</td>\n",
              "      <td>68817.000000</td>\n",
              "      <td>68817.0</td>\n",
              "      <td>68817.0</td>\n",
              "    </tr>\n",
              "    <tr>\n",
              "      <th>mean</th>\n",
              "      <td>16677.594562</td>\n",
              "      <td>0.127718</td>\n",
              "      <td>480.652863</td>\n",
              "      <td>8.821371e+04</td>\n",
              "      <td>21.778153</td>\n",
              "      <td>0.217766</td>\n",
              "      <td>0.497697</td>\n",
              "      <td>12.587340</td>\n",
              "      <td>0.126030</td>\n",
              "      <td>17604.142828</td>\n",
              "      <td>...</td>\n",
              "      <td>0.177238</td>\n",
              "      <td>1.0</td>\n",
              "      <td>0.123879</td>\n",
              "      <td>0.876121</td>\n",
              "      <td>0.383161</td>\n",
              "      <td>0.616839</td>\n",
              "      <td>0.860340</td>\n",
              "      <td>0.139660</td>\n",
              "      <td>1.0</td>\n",
              "      <td>1.0</td>\n",
              "    </tr>\n",
              "    <tr>\n",
              "      <th>std</th>\n",
              "      <td>10277.348590</td>\n",
              "      <td>0.048130</td>\n",
              "      <td>288.062432</td>\n",
              "      <td>1.155800e+05</td>\n",
              "      <td>20.199244</td>\n",
              "      <td>0.718367</td>\n",
              "      <td>0.758122</td>\n",
              "      <td>6.022869</td>\n",
              "      <td>0.336797</td>\n",
              "      <td>21835.880400</td>\n",
              "      <td>...</td>\n",
              "      <td>0.381873</td>\n",
              "      <td>0.0</td>\n",
              "      <td>0.329446</td>\n",
              "      <td>0.329446</td>\n",
              "      <td>0.486161</td>\n",
              "      <td>0.486161</td>\n",
              "      <td>0.346637</td>\n",
              "      <td>0.346637</td>\n",
              "      <td>0.0</td>\n",
              "      <td>0.0</td>\n",
              "    </tr>\n",
              "    <tr>\n",
              "      <th>min</th>\n",
              "      <td>1000.000000</td>\n",
              "      <td>0.060000</td>\n",
              "      <td>30.890000</td>\n",
              "      <td>4.000000e+01</td>\n",
              "      <td>0.000000</td>\n",
              "      <td>0.000000</td>\n",
              "      <td>0.000000</td>\n",
              "      <td>2.000000</td>\n",
              "      <td>0.000000</td>\n",
              "      <td>0.000000</td>\n",
              "      <td>...</td>\n",
              "      <td>0.000000</td>\n",
              "      <td>1.0</td>\n",
              "      <td>0.000000</td>\n",
              "      <td>0.000000</td>\n",
              "      <td>0.000000</td>\n",
              "      <td>0.000000</td>\n",
              "      <td>0.000000</td>\n",
              "      <td>0.000000</td>\n",
              "      <td>1.0</td>\n",
              "      <td>1.0</td>\n",
              "    </tr>\n",
              "    <tr>\n",
              "      <th>25%</th>\n",
              "      <td>9000.000000</td>\n",
              "      <td>0.088100</td>\n",
              "      <td>265.730000</td>\n",
              "      <td>5.000000e+04</td>\n",
              "      <td>13.890000</td>\n",
              "      <td>0.000000</td>\n",
              "      <td>0.000000</td>\n",
              "      <td>8.000000</td>\n",
              "      <td>0.000000</td>\n",
              "      <td>6293.000000</td>\n",
              "      <td>...</td>\n",
              "      <td>0.000000</td>\n",
              "      <td>1.0</td>\n",
              "      <td>0.000000</td>\n",
              "      <td>1.000000</td>\n",
              "      <td>0.000000</td>\n",
              "      <td>0.000000</td>\n",
              "      <td>1.000000</td>\n",
              "      <td>0.000000</td>\n",
              "      <td>1.0</td>\n",
              "      <td>1.0</td>\n",
              "    </tr>\n",
              "    <tr>\n",
              "      <th>50%</th>\n",
              "      <td>15000.000000</td>\n",
              "      <td>0.118000</td>\n",
              "      <td>404.560000</td>\n",
              "      <td>7.300000e+04</td>\n",
              "      <td>19.760000</td>\n",
              "      <td>0.000000</td>\n",
              "      <td>0.000000</td>\n",
              "      <td>11.000000</td>\n",
              "      <td>0.000000</td>\n",
              "      <td>12068.000000</td>\n",
              "      <td>...</td>\n",
              "      <td>0.000000</td>\n",
              "      <td>1.0</td>\n",
              "      <td>0.000000</td>\n",
              "      <td>1.000000</td>\n",
              "      <td>0.000000</td>\n",
              "      <td>1.000000</td>\n",
              "      <td>1.000000</td>\n",
              "      <td>0.000000</td>\n",
              "      <td>1.0</td>\n",
              "      <td>1.0</td>\n",
              "    </tr>\n",
              "    <tr>\n",
              "      <th>75%</th>\n",
              "      <td>24000.000000</td>\n",
              "      <td>0.155700</td>\n",
              "      <td>648.100000</td>\n",
              "      <td>1.040000e+05</td>\n",
              "      <td>26.660000</td>\n",
              "      <td>0.000000</td>\n",
              "      <td>1.000000</td>\n",
              "      <td>16.000000</td>\n",
              "      <td>0.000000</td>\n",
              "      <td>21735.000000</td>\n",
              "      <td>...</td>\n",
              "      <td>0.000000</td>\n",
              "      <td>1.0</td>\n",
              "      <td>0.000000</td>\n",
              "      <td>1.000000</td>\n",
              "      <td>1.000000</td>\n",
              "      <td>1.000000</td>\n",
              "      <td>1.000000</td>\n",
              "      <td>0.000000</td>\n",
              "      <td>1.0</td>\n",
              "      <td>1.0</td>\n",
              "    </tr>\n",
              "    <tr>\n",
              "      <th>max</th>\n",
              "      <td>40000.000000</td>\n",
              "      <td>0.308400</td>\n",
              "      <td>1676.230000</td>\n",
              "      <td>8.797500e+06</td>\n",
              "      <td>999.000000</td>\n",
              "      <td>18.000000</td>\n",
              "      <td>5.000000</td>\n",
              "      <td>72.000000</td>\n",
              "      <td>4.000000</td>\n",
              "      <td>587191.000000</td>\n",
              "      <td>...</td>\n",
              "      <td>1.000000</td>\n",
              "      <td>1.0</td>\n",
              "      <td>1.000000</td>\n",
              "      <td>1.000000</td>\n",
              "      <td>1.000000</td>\n",
              "      <td>1.000000</td>\n",
              "      <td>1.000000</td>\n",
              "      <td>1.000000</td>\n",
              "      <td>1.0</td>\n",
              "      <td>1.0</td>\n",
              "    </tr>\n",
              "  </tbody>\n",
              "</table>\n",
              "<p>8 rows × 95 columns</p>\n",
              "</div>\n",
              "      <button class=\"colab-df-convert\" onclick=\"convertToInteractive('df-6ab98ba6-7ac7-45b7-8ac2-95d676c4ddd4')\"\n",
              "              title=\"Convert this dataframe to an interactive table.\"\n",
              "              style=\"display:none;\">\n",
              "        \n",
              "  <svg xmlns=\"http://www.w3.org/2000/svg\" height=\"24px\"viewBox=\"0 0 24 24\"\n",
              "       width=\"24px\">\n",
              "    <path d=\"M0 0h24v24H0V0z\" fill=\"none\"/>\n",
              "    <path d=\"M18.56 5.44l.94 2.06.94-2.06 2.06-.94-2.06-.94-.94-2.06-.94 2.06-2.06.94zm-11 1L8.5 8.5l.94-2.06 2.06-.94-2.06-.94L8.5 2.5l-.94 2.06-2.06.94zm10 10l.94 2.06.94-2.06 2.06-.94-2.06-.94-.94-2.06-.94 2.06-2.06.94z\"/><path d=\"M17.41 7.96l-1.37-1.37c-.4-.4-.92-.59-1.43-.59-.52 0-1.04.2-1.43.59L10.3 9.45l-7.72 7.72c-.78.78-.78 2.05 0 2.83L4 21.41c.39.39.9.59 1.41.59.51 0 1.02-.2 1.41-.59l7.78-7.78 2.81-2.81c.8-.78.8-2.07 0-2.86zM5.41 20L4 18.59l7.72-7.72 1.47 1.35L5.41 20z\"/>\n",
              "  </svg>\n",
              "      </button>\n",
              "      \n",
              "  <style>\n",
              "    .colab-df-container {\n",
              "      display:flex;\n",
              "      flex-wrap:wrap;\n",
              "      gap: 12px;\n",
              "    }\n",
              "\n",
              "    .colab-df-convert {\n",
              "      background-color: #E8F0FE;\n",
              "      border: none;\n",
              "      border-radius: 50%;\n",
              "      cursor: pointer;\n",
              "      display: none;\n",
              "      fill: #1967D2;\n",
              "      height: 32px;\n",
              "      padding: 0 0 0 0;\n",
              "      width: 32px;\n",
              "    }\n",
              "\n",
              "    .colab-df-convert:hover {\n",
              "      background-color: #E2EBFA;\n",
              "      box-shadow: 0px 1px 2px rgba(60, 64, 67, 0.3), 0px 1px 3px 1px rgba(60, 64, 67, 0.15);\n",
              "      fill: #174EA6;\n",
              "    }\n",
              "\n",
              "    [theme=dark] .colab-df-convert {\n",
              "      background-color: #3B4455;\n",
              "      fill: #D2E3FC;\n",
              "    }\n",
              "\n",
              "    [theme=dark] .colab-df-convert:hover {\n",
              "      background-color: #434B5C;\n",
              "      box-shadow: 0px 1px 3px 1px rgba(0, 0, 0, 0.15);\n",
              "      filter: drop-shadow(0px 1px 2px rgba(0, 0, 0, 0.3));\n",
              "      fill: #FFFFFF;\n",
              "    }\n",
              "  </style>\n",
              "\n",
              "      <script>\n",
              "        const buttonEl =\n",
              "          document.querySelector('#df-6ab98ba6-7ac7-45b7-8ac2-95d676c4ddd4 button.colab-df-convert');\n",
              "        buttonEl.style.display =\n",
              "          google.colab.kernel.accessAllowed ? 'block' : 'none';\n",
              "\n",
              "        async function convertToInteractive(key) {\n",
              "          const element = document.querySelector('#df-6ab98ba6-7ac7-45b7-8ac2-95d676c4ddd4');\n",
              "          const dataTable =\n",
              "            await google.colab.kernel.invokeFunction('convertToInteractive',\n",
              "                                                     [key], {});\n",
              "          if (!dataTable) return;\n",
              "\n",
              "          const docLinkHtml = 'Like what you see? Visit the ' +\n",
              "            '<a target=\"_blank\" href=https://colab.research.google.com/notebooks/data_table.ipynb>data table notebook</a>'\n",
              "            + ' to learn more about interactive tables.';\n",
              "          element.innerHTML = '';\n",
              "          dataTable['output_type'] = 'display_data';\n",
              "          await google.colab.output.renderOutput(dataTable, element);\n",
              "          const docLink = document.createElement('div');\n",
              "          docLink.innerHTML = docLinkHtml;\n",
              "          element.appendChild(docLink);\n",
              "        }\n",
              "      </script>\n",
              "    </div>\n",
              "  </div>\n",
              "  "
            ]
          },
          "metadata": {},
          "execution_count": 7
        }
      ],
      "source": [
        "X.describe()"
      ]
    },
    {
      "cell_type": "code",
      "execution_count": 8,
      "metadata": {
        "colab": {
          "base_uri": "https://localhost:8080/"
        },
        "id": "_qHn4YK1ZefR",
        "outputId": "503ee732-62d3-4ca9-920f-6737784a5e56"
      },
      "outputs": [
        {
          "output_type": "execute_result",
          "data": {
            "text/plain": [
              "low_risk     68470\n",
              "high_risk      347\n",
              "Name: loan_status, dtype: int64"
            ]
          },
          "metadata": {},
          "execution_count": 8
        }
      ],
      "source": [
        "# Check the balance of our target values\n",
        "y.value_counts()"
      ]
    },
    {
      "cell_type": "code",
      "execution_count": 9,
      "metadata": {
        "id": "JfSLiawoZefS"
      },
      "outputs": [],
      "source": [
        "from sklearn.model_selection import train_test_split\n",
        "\n",
        "X_train, X_test, y_train, y_test = train_test_split(X, y, random_state = 1)"
      ]
    },
    {
      "cell_type": "code",
      "execution_count": 10,
      "metadata": {
        "colab": {
          "base_uri": "https://localhost:8080/"
        },
        "id": "ac4cxgFeZefS",
        "outputId": "0cef9a1b-6cb7-4e18-981d-1a1a63222792"
      },
      "outputs": [
        {
          "output_type": "execute_result",
          "data": {
            "text/plain": [
              "Counter({'low_risk': 51366, 'high_risk': 246})"
            ]
          },
          "metadata": {},
          "execution_count": 10
        }
      ],
      "source": [
        "Counter(y_train)"
      ]
    },
    {
      "cell_type": "code",
      "execution_count": 11,
      "metadata": {
        "colab": {
          "base_uri": "https://localhost:8080/"
        },
        "id": "JlKh9wt8ZefS",
        "outputId": "536ea48a-6534-4033-ab07-71a76052697e"
      },
      "outputs": [
        {
          "output_type": "execute_result",
          "data": {
            "text/plain": [
              "Counter({'low_risk': 17104, 'high_risk': 101})"
            ]
          },
          "metadata": {},
          "execution_count": 11
        }
      ],
      "source": [
        "Counter(y_test)"
      ]
    },
    {
      "cell_type": "markdown",
      "metadata": {
        "id": "h4RJ9inCZefS"
      },
      "source": [
        "# Oversampling\n",
        "\n",
        "In this section, you will compare two oversampling algorithms to determine which algorithm results in the best performance. You will oversample the data using the naive random oversampling algorithm and the SMOTE algorithm. For each algorithm, be sure to complete the folliowing steps:\n",
        "\n",
        "1. View the count of the target classes using `Counter` from the collections library. \n",
        "3. Use the resampled data to train a logistic regression model.\n",
        "3. Calculate the balanced accuracy score from sklearn.metrics.\n",
        "4. Print the confusion matrix from sklearn.metrics.\n",
        "5. Generate a classication report using the `imbalanced_classification_report` from imbalanced-learn.\n",
        "\n",
        "Note: Use a random state of 1 for each sampling algorithm to ensure consistency between tests"
      ]
    },
    {
      "cell_type": "markdown",
      "metadata": {
        "id": "aPTa1QSYZefT"
      },
      "source": [
        "### Naive Random Oversampling"
      ]
    },
    {
      "cell_type": "code",
      "execution_count": 12,
      "metadata": {
        "colab": {
          "base_uri": "https://localhost:8080/"
        },
        "id": "xykfTI2HZefT",
        "outputId": "a93f8e15-3964-4a1c-cc13-2b6780d709dc"
      },
      "outputs": [
        {
          "output_type": "execute_result",
          "data": {
            "text/plain": [
              "Counter({'low_risk': 51366, 'high_risk': 51366})"
            ]
          },
          "metadata": {},
          "execution_count": 12
        }
      ],
      "source": [
        "# Resample the training data with the RandomOversampler\n",
        "from imblearn.over_sampling import RandomOverSampler\n",
        "\n",
        "ros = RandomOverSampler(random_state = 1)\n",
        "X_resampled, y_resampled = ros.fit_resample(X_train, y_train)\n",
        "\n",
        "Counter(y_resampled)"
      ]
    },
    {
      "cell_type": "code",
      "execution_count": 13,
      "metadata": {
        "colab": {
          "base_uri": "https://localhost:8080/"
        },
        "id": "jEgAh04EZefT",
        "outputId": "24b01a51-19a1-432d-9bfa-7d1d8ef70f30"
      },
      "outputs": [
        {
          "output_type": "execute_result",
          "data": {
            "text/plain": [
              "LogisticRegression(random_state=1)"
            ]
          },
          "metadata": {},
          "execution_count": 13
        }
      ],
      "source": [
        "# Train the Logistic Regression model using the resampled data\n",
        "from sklearn.linear_model import LogisticRegression\n",
        "model = LogisticRegression(solver = 'lbfgs', random_state = 1)\n",
        "model.fit(X_resampled, y_resampled)"
      ]
    },
    {
      "cell_type": "code",
      "execution_count": 14,
      "metadata": {
        "colab": {
          "base_uri": "https://localhost:8080/"
        },
        "id": "fqNpGUIXZefU",
        "outputId": "ef3de83e-0959-4d7f-9d97-3b1332019287"
      },
      "outputs": [
        {
          "output_type": "execute_result",
          "data": {
            "text/plain": [
              "0.6645316016634404"
            ]
          },
          "metadata": {},
          "execution_count": 14
        }
      ],
      "source": [
        "# Calculated the balanced accuracy score\n",
        "from sklearn.metrics import balanced_accuracy_score\n",
        "y_pred = model.predict(X_test)\n",
        "balanced_accuracy_score(y_test, y_pred)"
      ]
    },
    {
      "cell_type": "code",
      "execution_count": 15,
      "metadata": {
        "colab": {
          "base_uri": "https://localhost:8080/",
          "height": 111
        },
        "id": "tnT6C234ZefU",
        "outputId": "6ec05448-5775-42f9-f637-305800f09816"
      },
      "outputs": [
        {
          "output_type": "execute_result",
          "data": {
            "text/plain": [
              "                  Predicted High-Risk  Predicted Low-Risk\n",
              "Actual High-Risk                   73                  28\n",
              "Actual Low-Risk                  6734               10370"
            ],
            "text/html": [
              "\n",
              "  <div id=\"df-bb91053e-50ef-47b0-a267-9856d9e7c105\">\n",
              "    <div class=\"colab-df-container\">\n",
              "      <div>\n",
              "<style scoped>\n",
              "    .dataframe tbody tr th:only-of-type {\n",
              "        vertical-align: middle;\n",
              "    }\n",
              "\n",
              "    .dataframe tbody tr th {\n",
              "        vertical-align: top;\n",
              "    }\n",
              "\n",
              "    .dataframe thead th {\n",
              "        text-align: right;\n",
              "    }\n",
              "</style>\n",
              "<table border=\"1\" class=\"dataframe\">\n",
              "  <thead>\n",
              "    <tr style=\"text-align: right;\">\n",
              "      <th></th>\n",
              "      <th>Predicted High-Risk</th>\n",
              "      <th>Predicted Low-Risk</th>\n",
              "    </tr>\n",
              "  </thead>\n",
              "  <tbody>\n",
              "    <tr>\n",
              "      <th>Actual High-Risk</th>\n",
              "      <td>73</td>\n",
              "      <td>28</td>\n",
              "    </tr>\n",
              "    <tr>\n",
              "      <th>Actual Low-Risk</th>\n",
              "      <td>6734</td>\n",
              "      <td>10370</td>\n",
              "    </tr>\n",
              "  </tbody>\n",
              "</table>\n",
              "</div>\n",
              "      <button class=\"colab-df-convert\" onclick=\"convertToInteractive('df-bb91053e-50ef-47b0-a267-9856d9e7c105')\"\n",
              "              title=\"Convert this dataframe to an interactive table.\"\n",
              "              style=\"display:none;\">\n",
              "        \n",
              "  <svg xmlns=\"http://www.w3.org/2000/svg\" height=\"24px\"viewBox=\"0 0 24 24\"\n",
              "       width=\"24px\">\n",
              "    <path d=\"M0 0h24v24H0V0z\" fill=\"none\"/>\n",
              "    <path d=\"M18.56 5.44l.94 2.06.94-2.06 2.06-.94-2.06-.94-.94-2.06-.94 2.06-2.06.94zm-11 1L8.5 8.5l.94-2.06 2.06-.94-2.06-.94L8.5 2.5l-.94 2.06-2.06.94zm10 10l.94 2.06.94-2.06 2.06-.94-2.06-.94-.94-2.06-.94 2.06-2.06.94z\"/><path d=\"M17.41 7.96l-1.37-1.37c-.4-.4-.92-.59-1.43-.59-.52 0-1.04.2-1.43.59L10.3 9.45l-7.72 7.72c-.78.78-.78 2.05 0 2.83L4 21.41c.39.39.9.59 1.41.59.51 0 1.02-.2 1.41-.59l7.78-7.78 2.81-2.81c.8-.78.8-2.07 0-2.86zM5.41 20L4 18.59l7.72-7.72 1.47 1.35L5.41 20z\"/>\n",
              "  </svg>\n",
              "      </button>\n",
              "      \n",
              "  <style>\n",
              "    .colab-df-container {\n",
              "      display:flex;\n",
              "      flex-wrap:wrap;\n",
              "      gap: 12px;\n",
              "    }\n",
              "\n",
              "    .colab-df-convert {\n",
              "      background-color: #E8F0FE;\n",
              "      border: none;\n",
              "      border-radius: 50%;\n",
              "      cursor: pointer;\n",
              "      display: none;\n",
              "      fill: #1967D2;\n",
              "      height: 32px;\n",
              "      padding: 0 0 0 0;\n",
              "      width: 32px;\n",
              "    }\n",
              "\n",
              "    .colab-df-convert:hover {\n",
              "      background-color: #E2EBFA;\n",
              "      box-shadow: 0px 1px 2px rgba(60, 64, 67, 0.3), 0px 1px 3px 1px rgba(60, 64, 67, 0.15);\n",
              "      fill: #174EA6;\n",
              "    }\n",
              "\n",
              "    [theme=dark] .colab-df-convert {\n",
              "      background-color: #3B4455;\n",
              "      fill: #D2E3FC;\n",
              "    }\n",
              "\n",
              "    [theme=dark] .colab-df-convert:hover {\n",
              "      background-color: #434B5C;\n",
              "      box-shadow: 0px 1px 3px 1px rgba(0, 0, 0, 0.15);\n",
              "      filter: drop-shadow(0px 1px 2px rgba(0, 0, 0, 0.3));\n",
              "      fill: #FFFFFF;\n",
              "    }\n",
              "  </style>\n",
              "\n",
              "      <script>\n",
              "        const buttonEl =\n",
              "          document.querySelector('#df-bb91053e-50ef-47b0-a267-9856d9e7c105 button.colab-df-convert');\n",
              "        buttonEl.style.display =\n",
              "          google.colab.kernel.accessAllowed ? 'block' : 'none';\n",
              "\n",
              "        async function convertToInteractive(key) {\n",
              "          const element = document.querySelector('#df-bb91053e-50ef-47b0-a267-9856d9e7c105');\n",
              "          const dataTable =\n",
              "            await google.colab.kernel.invokeFunction('convertToInteractive',\n",
              "                                                     [key], {});\n",
              "          if (!dataTable) return;\n",
              "\n",
              "          const docLinkHtml = 'Like what you see? Visit the ' +\n",
              "            '<a target=\"_blank\" href=https://colab.research.google.com/notebooks/data_table.ipynb>data table notebook</a>'\n",
              "            + ' to learn more about interactive tables.';\n",
              "          element.innerHTML = '';\n",
              "          dataTable['output_type'] = 'display_data';\n",
              "          await google.colab.output.renderOutput(dataTable, element);\n",
              "          const docLink = document.createElement('div');\n",
              "          docLink.innerHTML = docLinkHtml;\n",
              "          element.appendChild(docLink);\n",
              "        }\n",
              "      </script>\n",
              "    </div>\n",
              "  </div>\n",
              "  "
            ]
          },
          "metadata": {},
          "execution_count": 15
        }
      ],
      "source": [
        "# Display the confusion matrix\n",
        "from sklearn.metrics import confusion_matrix\n",
        "\n",
        "matrix = confusion_matrix(y_test, y_pred)\n",
        "matrix_df = pd.DataFrame(\n",
        "    matrix, index=[\"Actual High-Risk\", \"Actual Low-Risk\"], columns=[\"Predicted High-Risk\", \"Predicted Low-Risk\"])\n",
        "matrix_df"
      ]
    },
    {
      "cell_type": "code",
      "execution_count": 16,
      "metadata": {
        "colab": {
          "base_uri": "https://localhost:8080/"
        },
        "id": "uwxC_ZYvZefU",
        "outputId": "0e38a598-bcb0-4bc0-9046-6923723da16b"
      },
      "outputs": [
        {
          "output_type": "stream",
          "name": "stdout",
          "text": [
            "                   pre       rec       spe        f1       geo       iba       sup\n",
            "\n",
            "  high_risk       0.01      0.72      0.61      0.02      0.66      0.44       101\n",
            "   low_risk       1.00      0.61      0.72      0.75      0.66      0.43     17104\n",
            "\n",
            "avg / total       0.99      0.61      0.72      0.75      0.66      0.43     17205\n",
            "\n"
          ]
        }
      ],
      "source": [
        "# Print the imbalanced classification report\n",
        "from imblearn.metrics import classification_report_imbalanced\n",
        "print(classification_report_imbalanced(y_test, y_pred))"
      ]
    },
    {
      "cell_type": "markdown",
      "metadata": {
        "id": "VbXBSXDGZefU"
      },
      "source": [
        "### SMOTE Oversampling"
      ]
    },
    {
      "cell_type": "code",
      "execution_count": 17,
      "metadata": {
        "colab": {
          "base_uri": "https://localhost:8080/"
        },
        "id": "1H7X2OInZefU",
        "outputId": "6584edcd-1631-41ac-d4c3-eb0a70400b52"
      },
      "outputs": [
        {
          "output_type": "execute_result",
          "data": {
            "text/plain": [
              "Counter({'low_risk': 51366, 'high_risk': 51366})"
            ]
          },
          "metadata": {},
          "execution_count": 17
        }
      ],
      "source": [
        "# Resample the training data with SMOTE\n",
        "from imblearn.over_sampling import SMOTE\n",
        "X_resampled, y_resampled = SMOTE(random_state = 1, sampling_strategy = 'auto').fit_resample(X_train, y_train)\n",
        "\n",
        "Counter(y_resampled)"
      ]
    },
    {
      "cell_type": "code",
      "execution_count": 18,
      "metadata": {
        "colab": {
          "base_uri": "https://localhost:8080/"
        },
        "id": "97wki6ljZefV",
        "outputId": "401d6015-c85a-425b-9bf9-8e0e30cce2f5"
      },
      "outputs": [
        {
          "output_type": "execute_result",
          "data": {
            "text/plain": [
              "LogisticRegression(random_state=1)"
            ]
          },
          "metadata": {},
          "execution_count": 18
        }
      ],
      "source": [
        "# Train the Logistic Regression model using the resampled data\n",
        "model = LogisticRegression(solver = 'lbfgs', random_state = 1)\n",
        "model.fit(X_resampled, y_resampled)"
      ]
    },
    {
      "cell_type": "code",
      "execution_count": 19,
      "metadata": {
        "colab": {
          "base_uri": "https://localhost:8080/"
        },
        "id": "rLNZRcCmZefV",
        "outputId": "4bb60408-1277-4bf4-badb-71671622315d"
      },
      "outputs": [
        {
          "output_type": "execute_result",
          "data": {
            "text/plain": [
              "0.662861851549982"
            ]
          },
          "metadata": {},
          "execution_count": 19
        }
      ],
      "source": [
        "# Calculated the balanced accuracy score\n",
        "y_pred = model.predict(X_test)\n",
        "balanced_accuracy_score(y_test, y_pred)"
      ]
    },
    {
      "cell_type": "code",
      "execution_count": 20,
      "metadata": {
        "colab": {
          "base_uri": "https://localhost:8080/",
          "height": 111
        },
        "id": "3PLQO16jZefV",
        "outputId": "5c86b7bb-d3fa-4ed4-8645-8274a00f9cce"
      },
      "outputs": [
        {
          "output_type": "execute_result",
          "data": {
            "text/plain": [
              "                  Predicted High-Risk  Predicted Low-Risk\n",
              "Actual High-Risk                   64                  37\n",
              "Actual Low-Risk                  5267               11837"
            ],
            "text/html": [
              "\n",
              "  <div id=\"df-b771abbf-080b-468f-b758-10ce7b15aaf6\">\n",
              "    <div class=\"colab-df-container\">\n",
              "      <div>\n",
              "<style scoped>\n",
              "    .dataframe tbody tr th:only-of-type {\n",
              "        vertical-align: middle;\n",
              "    }\n",
              "\n",
              "    .dataframe tbody tr th {\n",
              "        vertical-align: top;\n",
              "    }\n",
              "\n",
              "    .dataframe thead th {\n",
              "        text-align: right;\n",
              "    }\n",
              "</style>\n",
              "<table border=\"1\" class=\"dataframe\">\n",
              "  <thead>\n",
              "    <tr style=\"text-align: right;\">\n",
              "      <th></th>\n",
              "      <th>Predicted High-Risk</th>\n",
              "      <th>Predicted Low-Risk</th>\n",
              "    </tr>\n",
              "  </thead>\n",
              "  <tbody>\n",
              "    <tr>\n",
              "      <th>Actual High-Risk</th>\n",
              "      <td>64</td>\n",
              "      <td>37</td>\n",
              "    </tr>\n",
              "    <tr>\n",
              "      <th>Actual Low-Risk</th>\n",
              "      <td>5267</td>\n",
              "      <td>11837</td>\n",
              "    </tr>\n",
              "  </tbody>\n",
              "</table>\n",
              "</div>\n",
              "      <button class=\"colab-df-convert\" onclick=\"convertToInteractive('df-b771abbf-080b-468f-b758-10ce7b15aaf6')\"\n",
              "              title=\"Convert this dataframe to an interactive table.\"\n",
              "              style=\"display:none;\">\n",
              "        \n",
              "  <svg xmlns=\"http://www.w3.org/2000/svg\" height=\"24px\"viewBox=\"0 0 24 24\"\n",
              "       width=\"24px\">\n",
              "    <path d=\"M0 0h24v24H0V0z\" fill=\"none\"/>\n",
              "    <path d=\"M18.56 5.44l.94 2.06.94-2.06 2.06-.94-2.06-.94-.94-2.06-.94 2.06-2.06.94zm-11 1L8.5 8.5l.94-2.06 2.06-.94-2.06-.94L8.5 2.5l-.94 2.06-2.06.94zm10 10l.94 2.06.94-2.06 2.06-.94-2.06-.94-.94-2.06-.94 2.06-2.06.94z\"/><path d=\"M17.41 7.96l-1.37-1.37c-.4-.4-.92-.59-1.43-.59-.52 0-1.04.2-1.43.59L10.3 9.45l-7.72 7.72c-.78.78-.78 2.05 0 2.83L4 21.41c.39.39.9.59 1.41.59.51 0 1.02-.2 1.41-.59l7.78-7.78 2.81-2.81c.8-.78.8-2.07 0-2.86zM5.41 20L4 18.59l7.72-7.72 1.47 1.35L5.41 20z\"/>\n",
              "  </svg>\n",
              "      </button>\n",
              "      \n",
              "  <style>\n",
              "    .colab-df-container {\n",
              "      display:flex;\n",
              "      flex-wrap:wrap;\n",
              "      gap: 12px;\n",
              "    }\n",
              "\n",
              "    .colab-df-convert {\n",
              "      background-color: #E8F0FE;\n",
              "      border: none;\n",
              "      border-radius: 50%;\n",
              "      cursor: pointer;\n",
              "      display: none;\n",
              "      fill: #1967D2;\n",
              "      height: 32px;\n",
              "      padding: 0 0 0 0;\n",
              "      width: 32px;\n",
              "    }\n",
              "\n",
              "    .colab-df-convert:hover {\n",
              "      background-color: #E2EBFA;\n",
              "      box-shadow: 0px 1px 2px rgba(60, 64, 67, 0.3), 0px 1px 3px 1px rgba(60, 64, 67, 0.15);\n",
              "      fill: #174EA6;\n",
              "    }\n",
              "\n",
              "    [theme=dark] .colab-df-convert {\n",
              "      background-color: #3B4455;\n",
              "      fill: #D2E3FC;\n",
              "    }\n",
              "\n",
              "    [theme=dark] .colab-df-convert:hover {\n",
              "      background-color: #434B5C;\n",
              "      box-shadow: 0px 1px 3px 1px rgba(0, 0, 0, 0.15);\n",
              "      filter: drop-shadow(0px 1px 2px rgba(0, 0, 0, 0.3));\n",
              "      fill: #FFFFFF;\n",
              "    }\n",
              "  </style>\n",
              "\n",
              "      <script>\n",
              "        const buttonEl =\n",
              "          document.querySelector('#df-b771abbf-080b-468f-b758-10ce7b15aaf6 button.colab-df-convert');\n",
              "        buttonEl.style.display =\n",
              "          google.colab.kernel.accessAllowed ? 'block' : 'none';\n",
              "\n",
              "        async function convertToInteractive(key) {\n",
              "          const element = document.querySelector('#df-b771abbf-080b-468f-b758-10ce7b15aaf6');\n",
              "          const dataTable =\n",
              "            await google.colab.kernel.invokeFunction('convertToInteractive',\n",
              "                                                     [key], {});\n",
              "          if (!dataTable) return;\n",
              "\n",
              "          const docLinkHtml = 'Like what you see? Visit the ' +\n",
              "            '<a target=\"_blank\" href=https://colab.research.google.com/notebooks/data_table.ipynb>data table notebook</a>'\n",
              "            + ' to learn more about interactive tables.';\n",
              "          element.innerHTML = '';\n",
              "          dataTable['output_type'] = 'display_data';\n",
              "          await google.colab.output.renderOutput(dataTable, element);\n",
              "          const docLink = document.createElement('div');\n",
              "          docLink.innerHTML = docLinkHtml;\n",
              "          element.appendChild(docLink);\n",
              "        }\n",
              "      </script>\n",
              "    </div>\n",
              "  </div>\n",
              "  "
            ]
          },
          "metadata": {},
          "execution_count": 20
        }
      ],
      "source": [
        "# Display the confusion matrix\n",
        "\n",
        "matrix = confusion_matrix(y_test, y_pred)\n",
        "matrix_df = pd.DataFrame(\n",
        "    matrix, index=[\"Actual High-Risk\", \"Actual Low-Risk\"], columns=[\"Predicted High-Risk\", \"Predicted Low-Risk\"])\n",
        "matrix_df"
      ]
    },
    {
      "cell_type": "code",
      "execution_count": 21,
      "metadata": {
        "colab": {
          "base_uri": "https://localhost:8080/"
        },
        "id": "Yid9QiCLZefW",
        "outputId": "729212ed-6b7a-4132-a698-419a18d98efc"
      },
      "outputs": [
        {
          "output_type": "stream",
          "name": "stdout",
          "text": [
            "                   pre       rec       spe        f1       geo       iba       sup\n",
            "\n",
            "  high_risk       0.01      0.63      0.69      0.02      0.66      0.44       101\n",
            "   low_risk       1.00      0.69      0.63      0.82      0.66      0.44     17104\n",
            "\n",
            "avg / total       0.99      0.69      0.63      0.81      0.66      0.44     17205\n",
            "\n"
          ]
        }
      ],
      "source": [
        "# Print the imbalanced classification report\n",
        "print(classification_report_imbalanced(y_test, y_pred))"
      ]
    },
    {
      "cell_type": "markdown",
      "metadata": {
        "id": "O_q298hxZefW"
      },
      "source": [
        "# Undersampling\n",
        "\n",
        "In this section, you will test an undersampling algorithms to determine which algorithm results in the best performance compared to the oversampling algorithms above. You will undersample the data using the Cluster Centroids algorithm and complete the folliowing steps:\n",
        "\n",
        "1. View the count of the target classes using `Counter` from the collections library. \n",
        "3. Use the resampled data to train a logistic regression model.\n",
        "3. Calculate the balanced accuracy score from sklearn.metrics.\n",
        "4. Print the confusion matrix from sklearn.metrics.\n",
        "5. Generate a classication report using the `imbalanced_classification_report` from imbalanced-learn.\n",
        "\n",
        "Note: Use a random state of 1 for each sampling algorithm to ensure consistency between tests"
      ]
    },
    {
      "cell_type": "code",
      "execution_count": 22,
      "metadata": {
        "colab": {
          "base_uri": "https://localhost:8080/"
        },
        "id": "Yuune8SqZefW",
        "outputId": "b5fcf25a-ecb4-455c-f0dc-3bb22fb1dc4a"
      },
      "outputs": [
        {
          "output_type": "execute_result",
          "data": {
            "text/plain": [
              "Counter({'high_risk': 246, 'low_risk': 246})"
            ]
          },
          "metadata": {},
          "execution_count": 22
        }
      ],
      "source": [
        "# Resample the data using the ClusterCentroids resampler\n",
        "# Warning: This is a large dataset, and this step may take some time to complete\n",
        "from imblearn.under_sampling import ClusterCentroids\n",
        "\n",
        "cc = ClusterCentroids(random_state=1)\n",
        "X_resampled, y_resampled = cc.fit_resample(X_train, y_train)\n",
        "Counter(y_resampled)"
      ]
    },
    {
      "cell_type": "code",
      "execution_count": 23,
      "metadata": {
        "colab": {
          "base_uri": "https://localhost:8080/"
        },
        "id": "jMLUB51wZefW",
        "outputId": "f41cd098-40d9-46d1-f8af-77cda4ca96f5"
      },
      "outputs": [
        {
          "output_type": "execute_result",
          "data": {
            "text/plain": [
              "LogisticRegression(random_state=1)"
            ]
          },
          "metadata": {},
          "execution_count": 23
        }
      ],
      "source": [
        "# Train the Logistic Regression model using the resampled data\n",
        "model = LogisticRegression(solver = 'lbfgs', random_state = 1)\n",
        "model.fit(X_resampled, y_resampled)"
      ]
    },
    {
      "cell_type": "code",
      "execution_count": 24,
      "metadata": {
        "colab": {
          "base_uri": "https://localhost:8080/"
        },
        "id": "5mbNZj5RZefW",
        "outputId": "15dc6cd2-427d-488e-fd8a-f58d7e91abee"
      },
      "outputs": [
        {
          "output_type": "execute_result",
          "data": {
            "text/plain": [
              "0.5442661782548694"
            ]
          },
          "metadata": {},
          "execution_count": 24
        }
      ],
      "source": [
        "# Calculated the balanced accuracy score\n",
        "y_pred = model.predict(X_test)\n",
        "balanced_accuracy_score(y_test, y_pred)"
      ]
    },
    {
      "cell_type": "code",
      "execution_count": 25,
      "metadata": {
        "colab": {
          "base_uri": "https://localhost:8080/",
          "height": 111
        },
        "id": "0P-RTGo0ZefW",
        "outputId": "59f8f9f5-f43d-4aa4-d2c7-ee3759618352"
      },
      "outputs": [
        {
          "output_type": "execute_result",
          "data": {
            "text/plain": [
              "                  Predicted High-Risk  Predicted Low-Risk\n",
              "Actual High-Risk                   70                  31\n",
              "Actual Low-Risk                 10340                6764"
            ],
            "text/html": [
              "\n",
              "  <div id=\"df-bbcb6d45-7547-4eb5-8177-79818349d4da\">\n",
              "    <div class=\"colab-df-container\">\n",
              "      <div>\n",
              "<style scoped>\n",
              "    .dataframe tbody tr th:only-of-type {\n",
              "        vertical-align: middle;\n",
              "    }\n",
              "\n",
              "    .dataframe tbody tr th {\n",
              "        vertical-align: top;\n",
              "    }\n",
              "\n",
              "    .dataframe thead th {\n",
              "        text-align: right;\n",
              "    }\n",
              "</style>\n",
              "<table border=\"1\" class=\"dataframe\">\n",
              "  <thead>\n",
              "    <tr style=\"text-align: right;\">\n",
              "      <th></th>\n",
              "      <th>Predicted High-Risk</th>\n",
              "      <th>Predicted Low-Risk</th>\n",
              "    </tr>\n",
              "  </thead>\n",
              "  <tbody>\n",
              "    <tr>\n",
              "      <th>Actual High-Risk</th>\n",
              "      <td>70</td>\n",
              "      <td>31</td>\n",
              "    </tr>\n",
              "    <tr>\n",
              "      <th>Actual Low-Risk</th>\n",
              "      <td>10340</td>\n",
              "      <td>6764</td>\n",
              "    </tr>\n",
              "  </tbody>\n",
              "</table>\n",
              "</div>\n",
              "      <button class=\"colab-df-convert\" onclick=\"convertToInteractive('df-bbcb6d45-7547-4eb5-8177-79818349d4da')\"\n",
              "              title=\"Convert this dataframe to an interactive table.\"\n",
              "              style=\"display:none;\">\n",
              "        \n",
              "  <svg xmlns=\"http://www.w3.org/2000/svg\" height=\"24px\"viewBox=\"0 0 24 24\"\n",
              "       width=\"24px\">\n",
              "    <path d=\"M0 0h24v24H0V0z\" fill=\"none\"/>\n",
              "    <path d=\"M18.56 5.44l.94 2.06.94-2.06 2.06-.94-2.06-.94-.94-2.06-.94 2.06-2.06.94zm-11 1L8.5 8.5l.94-2.06 2.06-.94-2.06-.94L8.5 2.5l-.94 2.06-2.06.94zm10 10l.94 2.06.94-2.06 2.06-.94-2.06-.94-.94-2.06-.94 2.06-2.06.94z\"/><path d=\"M17.41 7.96l-1.37-1.37c-.4-.4-.92-.59-1.43-.59-.52 0-1.04.2-1.43.59L10.3 9.45l-7.72 7.72c-.78.78-.78 2.05 0 2.83L4 21.41c.39.39.9.59 1.41.59.51 0 1.02-.2 1.41-.59l7.78-7.78 2.81-2.81c.8-.78.8-2.07 0-2.86zM5.41 20L4 18.59l7.72-7.72 1.47 1.35L5.41 20z\"/>\n",
              "  </svg>\n",
              "      </button>\n",
              "      \n",
              "  <style>\n",
              "    .colab-df-container {\n",
              "      display:flex;\n",
              "      flex-wrap:wrap;\n",
              "      gap: 12px;\n",
              "    }\n",
              "\n",
              "    .colab-df-convert {\n",
              "      background-color: #E8F0FE;\n",
              "      border: none;\n",
              "      border-radius: 50%;\n",
              "      cursor: pointer;\n",
              "      display: none;\n",
              "      fill: #1967D2;\n",
              "      height: 32px;\n",
              "      padding: 0 0 0 0;\n",
              "      width: 32px;\n",
              "    }\n",
              "\n",
              "    .colab-df-convert:hover {\n",
              "      background-color: #E2EBFA;\n",
              "      box-shadow: 0px 1px 2px rgba(60, 64, 67, 0.3), 0px 1px 3px 1px rgba(60, 64, 67, 0.15);\n",
              "      fill: #174EA6;\n",
              "    }\n",
              "\n",
              "    [theme=dark] .colab-df-convert {\n",
              "      background-color: #3B4455;\n",
              "      fill: #D2E3FC;\n",
              "    }\n",
              "\n",
              "    [theme=dark] .colab-df-convert:hover {\n",
              "      background-color: #434B5C;\n",
              "      box-shadow: 0px 1px 3px 1px rgba(0, 0, 0, 0.15);\n",
              "      filter: drop-shadow(0px 1px 2px rgba(0, 0, 0, 0.3));\n",
              "      fill: #FFFFFF;\n",
              "    }\n",
              "  </style>\n",
              "\n",
              "      <script>\n",
              "        const buttonEl =\n",
              "          document.querySelector('#df-bbcb6d45-7547-4eb5-8177-79818349d4da button.colab-df-convert');\n",
              "        buttonEl.style.display =\n",
              "          google.colab.kernel.accessAllowed ? 'block' : 'none';\n",
              "\n",
              "        async function convertToInteractive(key) {\n",
              "          const element = document.querySelector('#df-bbcb6d45-7547-4eb5-8177-79818349d4da');\n",
              "          const dataTable =\n",
              "            await google.colab.kernel.invokeFunction('convertToInteractive',\n",
              "                                                     [key], {});\n",
              "          if (!dataTable) return;\n",
              "\n",
              "          const docLinkHtml = 'Like what you see? Visit the ' +\n",
              "            '<a target=\"_blank\" href=https://colab.research.google.com/notebooks/data_table.ipynb>data table notebook</a>'\n",
              "            + ' to learn more about interactive tables.';\n",
              "          element.innerHTML = '';\n",
              "          dataTable['output_type'] = 'display_data';\n",
              "          await google.colab.output.renderOutput(dataTable, element);\n",
              "          const docLink = document.createElement('div');\n",
              "          docLink.innerHTML = docLinkHtml;\n",
              "          element.appendChild(docLink);\n",
              "        }\n",
              "      </script>\n",
              "    </div>\n",
              "  </div>\n",
              "  "
            ]
          },
          "metadata": {},
          "execution_count": 25
        }
      ],
      "source": [
        "# Display the confusion matrix\n",
        "matrix = confusion_matrix(y_test, y_pred)\n",
        "matrix_df = pd.DataFrame(matrix, \n",
        "                     index = ['Actual High-Risk', 'Actual Low-Risk'],\n",
        "                     columns = ['Predicted High-Risk', 'Predicted Low-Risk'])\n",
        "matrix_df"
      ]
    },
    {
      "cell_type": "code",
      "execution_count": 26,
      "metadata": {
        "colab": {
          "base_uri": "https://localhost:8080/"
        },
        "id": "XbsxnpjkZefW",
        "outputId": "46809cdd-a848-432c-f916-4b782a94b8fe"
      },
      "outputs": [
        {
          "output_type": "stream",
          "name": "stdout",
          "text": [
            "                   pre       rec       spe        f1       geo       iba       sup\n",
            "\n",
            "  high_risk       0.01      0.69      0.40      0.01      0.52      0.28       101\n",
            "   low_risk       1.00      0.40      0.69      0.57      0.52      0.27     17104\n",
            "\n",
            "avg / total       0.99      0.40      0.69      0.56      0.52      0.27     17205\n",
            "\n"
          ]
        }
      ],
      "source": [
        "# Print the imbalanced classification report\n",
        "print(classification_report_imbalanced(y_test, y_pred))"
      ]
    },
    {
      "cell_type": "markdown",
      "metadata": {
        "id": "iIPjFoiDZefX"
      },
      "source": [
        "# Combination (Over and Under) Sampling\n",
        "\n",
        "In this section, you will test a combination over- and under-sampling algorithm to determine if the algorithm results in the best performance compared to the other sampling algorithms above. You will resample the data using the SMOTEENN algorithm and complete the folliowing steps:\n",
        "\n",
        "1. View the count of the target classes using `Counter` from the collections library. \n",
        "3. Use the resampled data to train a logistic regression model.\n",
        "3. Calculate the balanced accuracy score from sklearn.metrics.\n",
        "4. Print the confusion matrix from sklearn.metrics.\n",
        "5. Generate a classication report using the `imbalanced_classification_report` from imbalanced-learn.\n",
        "\n",
        "Note: Use a random state of 1 for each sampling algorithm to ensure consistency between tests"
      ]
    },
    {
      "cell_type": "code",
      "execution_count": 27,
      "metadata": {
        "colab": {
          "base_uri": "https://localhost:8080/"
        },
        "id": "LGaY4KXrZefX",
        "outputId": "e399ebe0-60f3-4b64-a159-ac37889a11da"
      },
      "outputs": [
        {
          "output_type": "execute_result",
          "data": {
            "text/plain": [
              "Counter({'high_risk': 68458, 'low_risk': 62022})"
            ]
          },
          "metadata": {},
          "execution_count": 27
        }
      ],
      "source": [
        "# Resample the training data with SMOTEENN\n",
        "# Warning: This is a large dataset, and this step may take some time to complete\n",
        "from imblearn.combine import SMOTEENN\n",
        "smote_enn = SMOTEENN(random_state = 1)\n",
        "X_resampled, y_resampled = smote_enn.fit_resample(X, y)\n",
        "\n",
        "\n",
        "Counter(y_resampled)"
      ]
    },
    {
      "cell_type": "code",
      "execution_count": 28,
      "metadata": {
        "colab": {
          "base_uri": "https://localhost:8080/"
        },
        "id": "ZtrK2DeDZefX",
        "outputId": "9d3986b5-e999-4d8a-9557-03d070cc3c27"
      },
      "outputs": [
        {
          "output_type": "execute_result",
          "data": {
            "text/plain": [
              "LogisticRegression(random_state=1)"
            ]
          },
          "metadata": {},
          "execution_count": 28
        }
      ],
      "source": [
        "# Train the Logistic Regression model using the resampled data\n",
        "model = LogisticRegression(solver = 'lbfgs', random_state = 1)\n",
        "model.fit(X_resampled, y_resampled)"
      ]
    },
    {
      "cell_type": "code",
      "execution_count": 29,
      "metadata": {
        "colab": {
          "base_uri": "https://localhost:8080/"
        },
        "id": "YYmj51WpZefX",
        "outputId": "6b84182a-f215-4b4e-81c7-c4d5c8678f58"
      },
      "outputs": [
        {
          "output_type": "execute_result",
          "data": {
            "text/plain": [
              "0.6825121678444739"
            ]
          },
          "metadata": {},
          "execution_count": 29
        }
      ],
      "source": [
        "# Calculated the balanced accuracy score\n",
        "y_pred = model.predict(X_test)\n",
        "balanced_accuracy_score(y_test, y_pred)"
      ]
    },
    {
      "cell_type": "code",
      "execution_count": 30,
      "metadata": {
        "colab": {
          "base_uri": "https://localhost:8080/",
          "height": 111
        },
        "id": "S71A_rA5ZefX",
        "outputId": "c7729092-4ede-4a77-fc09-e7ef6ecfdf28"
      },
      "outputs": [
        {
          "output_type": "execute_result",
          "data": {
            "text/plain": [
              "                  Predicted High-Risk  Predicted Low-Risk\n",
              "Actual High-Risk                   79                  22\n",
              "Actual Low-Risk                  7135                9969"
            ],
            "text/html": [
              "\n",
              "  <div id=\"df-ef1589bb-e362-4bfa-b9ca-6d7b71448c5d\">\n",
              "    <div class=\"colab-df-container\">\n",
              "      <div>\n",
              "<style scoped>\n",
              "    .dataframe tbody tr th:only-of-type {\n",
              "        vertical-align: middle;\n",
              "    }\n",
              "\n",
              "    .dataframe tbody tr th {\n",
              "        vertical-align: top;\n",
              "    }\n",
              "\n",
              "    .dataframe thead th {\n",
              "        text-align: right;\n",
              "    }\n",
              "</style>\n",
              "<table border=\"1\" class=\"dataframe\">\n",
              "  <thead>\n",
              "    <tr style=\"text-align: right;\">\n",
              "      <th></th>\n",
              "      <th>Predicted High-Risk</th>\n",
              "      <th>Predicted Low-Risk</th>\n",
              "    </tr>\n",
              "  </thead>\n",
              "  <tbody>\n",
              "    <tr>\n",
              "      <th>Actual High-Risk</th>\n",
              "      <td>79</td>\n",
              "      <td>22</td>\n",
              "    </tr>\n",
              "    <tr>\n",
              "      <th>Actual Low-Risk</th>\n",
              "      <td>7135</td>\n",
              "      <td>9969</td>\n",
              "    </tr>\n",
              "  </tbody>\n",
              "</table>\n",
              "</div>\n",
              "      <button class=\"colab-df-convert\" onclick=\"convertToInteractive('df-ef1589bb-e362-4bfa-b9ca-6d7b71448c5d')\"\n",
              "              title=\"Convert this dataframe to an interactive table.\"\n",
              "              style=\"display:none;\">\n",
              "        \n",
              "  <svg xmlns=\"http://www.w3.org/2000/svg\" height=\"24px\"viewBox=\"0 0 24 24\"\n",
              "       width=\"24px\">\n",
              "    <path d=\"M0 0h24v24H0V0z\" fill=\"none\"/>\n",
              "    <path d=\"M18.56 5.44l.94 2.06.94-2.06 2.06-.94-2.06-.94-.94-2.06-.94 2.06-2.06.94zm-11 1L8.5 8.5l.94-2.06 2.06-.94-2.06-.94L8.5 2.5l-.94 2.06-2.06.94zm10 10l.94 2.06.94-2.06 2.06-.94-2.06-.94-.94-2.06-.94 2.06-2.06.94z\"/><path d=\"M17.41 7.96l-1.37-1.37c-.4-.4-.92-.59-1.43-.59-.52 0-1.04.2-1.43.59L10.3 9.45l-7.72 7.72c-.78.78-.78 2.05 0 2.83L4 21.41c.39.39.9.59 1.41.59.51 0 1.02-.2 1.41-.59l7.78-7.78 2.81-2.81c.8-.78.8-2.07 0-2.86zM5.41 20L4 18.59l7.72-7.72 1.47 1.35L5.41 20z\"/>\n",
              "  </svg>\n",
              "      </button>\n",
              "      \n",
              "  <style>\n",
              "    .colab-df-container {\n",
              "      display:flex;\n",
              "      flex-wrap:wrap;\n",
              "      gap: 12px;\n",
              "    }\n",
              "\n",
              "    .colab-df-convert {\n",
              "      background-color: #E8F0FE;\n",
              "      border: none;\n",
              "      border-radius: 50%;\n",
              "      cursor: pointer;\n",
              "      display: none;\n",
              "      fill: #1967D2;\n",
              "      height: 32px;\n",
              "      padding: 0 0 0 0;\n",
              "      width: 32px;\n",
              "    }\n",
              "\n",
              "    .colab-df-convert:hover {\n",
              "      background-color: #E2EBFA;\n",
              "      box-shadow: 0px 1px 2px rgba(60, 64, 67, 0.3), 0px 1px 3px 1px rgba(60, 64, 67, 0.15);\n",
              "      fill: #174EA6;\n",
              "    }\n",
              "\n",
              "    [theme=dark] .colab-df-convert {\n",
              "      background-color: #3B4455;\n",
              "      fill: #D2E3FC;\n",
              "    }\n",
              "\n",
              "    [theme=dark] .colab-df-convert:hover {\n",
              "      background-color: #434B5C;\n",
              "      box-shadow: 0px 1px 3px 1px rgba(0, 0, 0, 0.15);\n",
              "      filter: drop-shadow(0px 1px 2px rgba(0, 0, 0, 0.3));\n",
              "      fill: #FFFFFF;\n",
              "    }\n",
              "  </style>\n",
              "\n",
              "      <script>\n",
              "        const buttonEl =\n",
              "          document.querySelector('#df-ef1589bb-e362-4bfa-b9ca-6d7b71448c5d button.colab-df-convert');\n",
              "        buttonEl.style.display =\n",
              "          google.colab.kernel.accessAllowed ? 'block' : 'none';\n",
              "\n",
              "        async function convertToInteractive(key) {\n",
              "          const element = document.querySelector('#df-ef1589bb-e362-4bfa-b9ca-6d7b71448c5d');\n",
              "          const dataTable =\n",
              "            await google.colab.kernel.invokeFunction('convertToInteractive',\n",
              "                                                     [key], {});\n",
              "          if (!dataTable) return;\n",
              "\n",
              "          const docLinkHtml = 'Like what you see? Visit the ' +\n",
              "            '<a target=\"_blank\" href=https://colab.research.google.com/notebooks/data_table.ipynb>data table notebook</a>'\n",
              "            + ' to learn more about interactive tables.';\n",
              "          element.innerHTML = '';\n",
              "          dataTable['output_type'] = 'display_data';\n",
              "          await google.colab.output.renderOutput(dataTable, element);\n",
              "          const docLink = document.createElement('div');\n",
              "          docLink.innerHTML = docLinkHtml;\n",
              "          element.appendChild(docLink);\n",
              "        }\n",
              "      </script>\n",
              "    </div>\n",
              "  </div>\n",
              "  "
            ]
          },
          "metadata": {},
          "execution_count": 30
        }
      ],
      "source": [
        "# Display the confusion matrix\n",
        "matrix = confusion_matrix(y_test, y_pred)\n",
        "matrix_df = pd.DataFrame(matrix, \n",
        "                     index = ['Actual High-Risk', 'Actual Low-Risk'],\n",
        "                     columns = ['Predicted High-Risk', 'Predicted Low-Risk'])\n",
        "matrix_df"
      ]
    },
    {
      "cell_type": "code",
      "execution_count": 31,
      "metadata": {
        "colab": {
          "base_uri": "https://localhost:8080/"
        },
        "id": "lqzekLJKZefX",
        "outputId": "3e375bac-5eb6-4bd4-8d09-f33d504a58e0"
      },
      "outputs": [
        {
          "output_type": "stream",
          "name": "stdout",
          "text": [
            "                   pre       rec       spe        f1       geo       iba       sup\n",
            "\n",
            "  high_risk       0.01      0.78      0.58      0.02      0.68      0.46       101\n",
            "   low_risk       1.00      0.58      0.78      0.74      0.68      0.45     17104\n",
            "\n",
            "avg / total       0.99      0.58      0.78      0.73      0.68      0.45     17205\n",
            "\n"
          ]
        }
      ],
      "source": [
        "# Print the imbalanced classification report\n",
        "print(classification_report_imbalanced(y_test, y_pred))"
      ]
    },
    {
      "cell_type": "code",
      "execution_count": null,
      "metadata": {
        "id": "VYKnB6XGZefX"
      },
      "outputs": [],
      "source": []
    }
  ],
  "metadata": {
    "kernelspec": {
      "display_name": "Python 3.8.16 ('mlp')",
      "language": "python",
      "name": "python3"
    },
    "language_info": {
      "codemirror_mode": {
        "name": "ipython",
        "version": 3
      },
      "file_extension": ".py",
      "mimetype": "text/x-python",
      "name": "python",
      "nbconvert_exporter": "python",
      "pygments_lexer": "ipython3",
      "version": "3.8.16"
    },
    "vscode": {
      "interpreter": {
        "hash": "b7f3dea2183deb666598f412cf9089e3882bfffadbaa5289399e2a806046f730"
      }
    },
    "colab": {
      "provenance": [],
      "include_colab_link": true
    }
  },
  "nbformat": 4,
  "nbformat_minor": 0
}